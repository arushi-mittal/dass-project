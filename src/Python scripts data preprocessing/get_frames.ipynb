{
 "cells": [
  {
   "cell_type": "code",
   "execution_count": 1,
   "metadata": {},
   "outputs": [],
   "source": [
    "import cv2\n",
    "import numpy as np"
   ]
  },
  {
   "cell_type": "code",
   "execution_count": 2,
   "metadata": {},
   "outputs": [],
   "source": [
    "# !mkdir \"Frames/\" + path"
   ]
  },
  {
   "cell_type": "code",
   "execution_count": 3,
   "metadata": {},
   "outputs": [
    {
     "data": {
      "text/plain": [
       "(1080, 1920, 3)"
      ]
     },
     "execution_count": 3,
     "metadata": {},
     "output_type": "execute_result"
    }
   ],
   "source": [
    "vidcap = \"2.mp4\"\n",
    "path = \"2\"\n",
    "!mkdir \"Frames/2\"\n",
    "\n",
    "vidcap = cv2.VideoCapture(vidcap)\n",
    "#vidcap=cv2.rotate(vidcap, cv2.ROTATE_90_CLOCKWISE)\n",
    "vidcap.set(1,34)\n",
    "success,image = vidcap.read(1)\n",
    "\n",
    "image.shape\n",
    "# cv2.imshow('image',image)\n",
    "# cv2.imwrite('Frames/WA_1/trial.jpg', image)"
   ]
  },
  {
   "cell_type": "code",
   "execution_count": 4,
   "metadata": {},
   "outputs": [],
   "source": []
  },
  {
   "cell_type": "code",
   "execution_count": 5,
   "metadata": {},
   "outputs": [
    {
     "name": "stdout",
     "output_type": "stream",
     "text": [
      "FPS of video :  60.0\n",
      "Total Frames of video :  36000\n",
      "Length of video(in sec) :  600\n"
     ]
    }
   ],
   "source": [
    "fps = vidcap.get(cv2.CAP_PROP_FPS)\n",
    "frame_count = int(vidcap.get(cv2.CAP_PROP_FRAME_COUNT))\n",
    "video_duration = int(frame_count/fps)\n",
    "print(\"FPS of video : \", fps)\n",
    "print(\"Total Frames of video : \", frame_count)\n",
    "print(\"Length of video(in sec) : \", video_duration)"
   ]
  },
  {
   "cell_type": "code",
   "execution_count": 6,
   "metadata": {},
   "outputs": [],
   "source": [
    "# Desired interval of frames to include\n",
    "seconds_to_skip = 1\n",
    "n = seconds_to_skip * fps          \n",
    "desired_frames = np.arange(0,frame_count,n)\n",
    "# desired_frames"
   ]
  },
  {
   "cell_type": "code",
   "execution_count": 7,
   "metadata": {},
   "outputs": [],
   "source": [
    "#################### Initiate Process ################\n",
    "for i in desired_frames:\n",
    "    vidcap.set(1, i-1)\n",
    "    # image is an array of array of [R,G,B] values\n",
    "    success, frame = vidcap.read(1)\n",
    "#     cv2.imshow('frame',frame)\n",
    "    # The 0th frame is often a throw-away\n",
    "    frameId = int(vidcap.get(1))\n",
    "#     frame = cv2.rotate(frame, cv2.ROTATE_90_CLOCKWISE)\n",
    "    cv2.imwrite(\"Frames/\"+path+\"/\"+path+\"_frame\"+str(frameId)+\".jpg\", frame)"
   ]
  },
  {
   "cell_type": "code",
   "execution_count": 8,
   "metadata": {},
   "outputs": [
    {
     "name": "stdout",
     "output_type": "stream",
     "text": [
      "Complete\n"
     ]
    }
   ],
   "source": [
    "vidcap.release()\n",
    "print(\"Complete\")\n",
    "cv2.destroyAllWindows()"
   ]
  },
  {
   "cell_type": "code",
   "execution_count": null,
   "metadata": {},
   "outputs": [],
   "source": []
  }
 ],
 "metadata": {
  "kernelspec": {
   "display_name": "Python 3",
   "language": "python",
   "name": "python3"
  },
  "language_info": {
   "codemirror_mode": {
    "name": "ipython",
    "version": 3
   },
   "file_extension": ".py",
   "mimetype": "text/x-python",
   "name": "python",
   "nbconvert_exporter": "python",
   "pygments_lexer": "ipython3",
   "version": "3.7.6"
  }
 },
 "nbformat": 4,
 "nbformat_minor": 4
}